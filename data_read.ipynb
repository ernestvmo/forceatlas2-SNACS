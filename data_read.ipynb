{
 "cells": [
  {
   "cell_type": "markdown",
   "metadata": {},
   "source": [
    "## Imports"
   ]
  },
  {
   "cell_type": "code",
   "execution_count": 1,
   "metadata": {},
   "outputs": [],
   "source": [
    "import os\n",
    "import glob\n",
    "\n",
    "import matplotlib.pyplot as plt\n",
    "import networkx as nx"
   ]
  },
  {
   "cell_type": "markdown",
   "metadata": {},
   "source": [
    "## Load datasets"
   ]
  },
  {
   "cell_type": "markdown",
   "metadata": {},
   "source": [
    "### FA2 paper datasets"
   ]
  },
  {
   "cell_type": "code",
   "execution_count": 2,
   "metadata": {},
   "outputs": [],
   "source": [
    "def load_network_from_adjacency(filepath: str, is_directed=True, sep=\" \") -> nx.Graph:\n",
    "    with open(filepath) as file:\n",
    "        G = nx.DiGraph() if is_directed else nx.Graph()\n",
    "        for line in file:\n",
    "            if line.startswith('#'): continue\n",
    "            line = line.rstrip('\\n')\n",
    "            n1, n2, *_ = line.split()\n",
    "            G.add_edge(n1, n2)\n",
    "    return G"
   ]
  },
  {
   "cell_type": "code",
   "execution_count": 3,
   "metadata": {},
   "outputs": [],
   "source": [
    "FA2_ROOT = \"/Volumes/DATA/SNACS datasets/FA2 datasets/\""
   ]
  },
  {
   "cell_type": "markdown",
   "metadata": {},
   "source": [
    "#### Extract Basic Infos"
   ]
  },
  {
   "cell_type": "code",
   "execution_count": 4,
   "metadata": {},
   "outputs": [],
   "source": [
    "def extract_info(G: nx.Graph):\n",
    "    nodes = G.number_of_nodes()\n",
    "    edges = G.number_of_edges()\n",
    "    avg_degree = sum(dict(G.degree()).values()) / float(nodes)\n",
    "    return nodes, edges, avg_degree"
   ]
  },
  {
   "attachments": {},
   "cell_type": "markdown",
   "metadata": {},
   "source": [
    "#### Structures for Data Exploration"
   ]
  },
  {
   "cell_type": "code",
   "execution_count": 5,
   "metadata": {},
   "outputs": [],
   "source": [
    "networks_info = {}"
   ]
  },
  {
   "cell_type": "markdown",
   "metadata": {},
   "source": [
    "#### Facebook"
   ]
  },
  {
   "cell_type": "code",
   "execution_count": 6,
   "metadata": {},
   "outputs": [],
   "source": [
    "fb_path = FA2_ROOT + \"facebook/*.edges\"\n",
    "fb_files = glob.glob(fb_path)\n",
    "fb_networks = []\n",
    "for file in fb_files:\n",
    "    fb_networks.append(load_network_from_adjacency(filepath=file, is_directed=False))"
   ]
  },
  {
   "cell_type": "code",
   "execution_count": 7,
   "metadata": {},
   "outputs": [
    {
     "name": "stdout",
     "output_type": "stream",
     "text": [
      "Network 0.edges has 333 nodes, 2519 edges, and an average degree of 15.12912912912913.\n",
      "Network 348.edges has 224 nodes, 3192 edges, and an average degree of 28.5.\n",
      "Network 414.edges has 150 nodes, 1693 edges, and an average degree of 22.573333333333334.\n",
      "Network 698.edges has 61 nodes, 270 edges, and an average degree of 8.852459016393443.\n",
      "Network 107.edges has 1034 nodes, 26749 edges, and an average degree of 51.73887814313346.\n",
      "Network 3437.edges has 534 nodes, 4813 edges, and an average degree of 18.026217228464418.\n",
      "Network 3980.edges has 52 nodes, 146 edges, and an average degree of 5.615384615384615.\n",
      "Network 1912.edges has 747 nodes, 30025 edges, and an average degree of 80.38821954484605.\n",
      "Network 1684.edges has 786 nodes, 14024 edges, and an average degree of 35.68447837150127.\n",
      "Network 686.edges has 168 nodes, 1656 edges, and an average degree of 19.714285714285715.\n"
     ]
    }
   ],
   "source": [
    "for file, network in zip(fb_files, fb_networks):\n",
    "    n, e, avg_d = extract_info(network)\n",
    "    networks_info[os.path.basename(file)] = [n, e, avg_d]\n",
    "    print(f\"Network {os.path.basename(file)} has {n} nodes, {e} edges, and an average degree of {avg_d}.\")\n",
    "    nx.write_gexf(network, path=\"gephi/\" + os.path.basename(file).replace('.edges', \".gexf\"))"
   ]
  },
  {
   "cell_type": "markdown",
   "metadata": {},
   "source": [
    "#### Twitter"
   ]
  },
  {
   "cell_type": "code",
   "execution_count": 8,
   "metadata": {},
   "outputs": [],
   "source": [
    "twitter_path = FA2_ROOT + \"twitter_use/*.edges\"\n",
    "twitter_files = glob.glob(twitter_path)\n",
    "twitter_networks = []\n",
    "for file in twitter_files:\n",
    "    twitter_networks.append(load_network_from_adjacency(filepath=file, is_directed=True))"
   ]
  },
  {
   "cell_type": "code",
   "execution_count": 9,
   "metadata": {},
   "outputs": [
    {
     "name": "stdout",
     "output_type": "stream",
     "text": [
      "Network 21420959.edges has 91 nodes, 1787 edges, and an average degree of 39.27472527472528.\n",
      "Network 24117694.edges has 246 nodes, 9630 edges, and an average degree of 78.29268292682927.\n",
      "Network 15053535.edges has 18 nodes, 26 edges, and an average degree of 2.888888888888889.\n",
      "Network 215328630.edges has 10 nodes, 33 edges, and an average degree of 6.6.\n",
      "Network 248883350.edges has 184 nodes, 9042 edges, and an average degree of 98.28260869565217.\n",
      "Network 15924858.edges has 10 nodes, 39 edges, and an average degree of 7.8.\n",
      "Network 430313102.edges has 51 nodes, 1646 edges, and an average degree of 64.54901960784314.\n",
      "Network 23503181.edges has 101 nodes, 1824 edges, and an average degree of 36.118811881188115.\n",
      "Network 163374693.edges has 164 nodes, 1749 edges, and an average degree of 21.329268292682926.\n",
      "Network 314316607.edges has 235 nodes, 15957 edges, and an average degree of 135.80425531914895.\n",
      "Network 256497288.edges has 213 nodes, 17930 edges, and an average degree of 168.3568075117371.\n",
      "Network 96545499.edges has 13 nodes, 38 edges, and an average degree of 5.846153846153846.\n",
      "Network 217796457.edges has 184 nodes, 12105 edges, and an average degree of 131.57608695652175.\n",
      "Network 22252971.edges has 23 nodes, 34 edges, and an average degree of 2.9565217391304346.\n",
      "Network 200214366.edges has 183 nodes, 9451 edges, and an average degree of 103.2896174863388.\n",
      "Network 22106463.edges has 156 nodes, 1815 edges, and an average degree of 23.26923076923077.\n",
      "Network 98801140.edges has 5 nodes, 5 edges, and an average degree of 2.0.\n",
      "Network 396721965.edges has 9 nodes, 21 edges, and an average degree of 4.666666666666667.\n",
      "Network 89826562.edges has 216 nodes, 9715 edges, and an average degree of 89.95370370370371.\n",
      "Network 9460682.edges has 88 nodes, 2003 edges, and an average degree of 45.52272727272727.\n",
      "Network 175553601.edges has 201 nodes, 8888 edges, and an average degree of 88.43781094527363.\n",
      "Network 40777046.edges has 25 nodes, 39 edges, and an average degree of 3.12.\n",
      "Network 14711172.edges has 6 nodes, 8 edges, and an average degree of 2.6666666666666665.\n",
      "Network 43858661.edges has 11 nodes, 37 edges, and an average degree of 6.7272727272727275.\n",
      "Network 26346966.edges has 78 nodes, 1928 edges, and an average degree of 49.43589743589744.\n",
      "Network 307458983.edges has 228 nodes, 9938 edges, and an average degree of 87.17543859649123.\n",
      "Network 19933035.edges has 62 nodes, 1632 edges, and an average degree of 52.645161290322584.\n",
      "Network 16987303.edges has 193 nodes, 13538 edges, and an average degree of 140.2901554404145.\n",
      "Network 18481292.edges has 77 nodes, 1732 edges, and an average degree of 44.98701298701299.\n",
      "Network 9254272.edges has 155 nodes, 1779 edges, and an average degree of 22.954838709677418.\n"
     ]
    }
   ],
   "source": [
    "for file, network in zip(twitter_files, twitter_networks):\n",
    "    n, e, avg_d = extract_info(network)\n",
    "    networks_info[os.path.basename(file)] = [n, e, avg_d]\n",
    "    print(f\"Network {os.path.basename(file)} has {n} nodes, {e} edges, and an average degree of {avg_d}.\")\n",
    "    nx.write_gexf(network, path=\"gephi/\" + os.path.basename(file).replace('.edges', \".gexf\"))"
   ]
  },
  {
   "cell_type": "markdown",
   "metadata": {},
   "source": [
    "#### Oregon-2"
   ]
  },
  {
   "cell_type": "code",
   "execution_count": 10,
   "metadata": {},
   "outputs": [],
   "source": [
    "oregon_path = FA2_ROOT + \"oregon/*.txt\"\n",
    "oregon_files = glob.glob(oregon_path)\n",
    "oregon_networks = []\n",
    "for file in oregon_files:\n",
    "    oregon_networks.append(load_network_from_adjacency(file, is_directed=False))"
   ]
  },
  {
   "cell_type": "code",
   "execution_count": 11,
   "metadata": {},
   "outputs": [
    {
     "name": "stdout",
     "output_type": "stream",
     "text": [
      "Network oregon2_010331.txt has 10900 nodes, 31180 edges, and an average degree of 5.721100917431193.\n",
      "Network oregon2_010407.txt has 10981 nodes, 30855 edges, and an average degree of 5.619706766232584.\n",
      "Network oregon2_010428.txt has 11113 nodes, 31434 edges, and an average degree of 5.657158283091874.\n",
      "Network oregon2_010505.txt has 11157 nodes, 30943 edges, and an average degree of 5.546831585551671.\n",
      "Network oregon2_010512.txt has 11260 nodes, 31303 edges, and an average degree of 5.560035523978685.\n",
      "Network oregon2_010519.txt has 11375 nodes, 32287 edges, and an average degree of 5.676835164835165.\n",
      "Network oregon2_010526.txt has 11461 nodes, 32730 edges, and an average degree of 5.711543495331996.\n",
      "Network oregon2_010414.txt has 11019 nodes, 31761 edges, and an average degree of 5.764769942826028.\n",
      "Network oregon2_010421.txt has 11080 nodes, 31538 edges, and an average degree of 5.692779783393502.\n"
     ]
    }
   ],
   "source": [
    "for file, network in zip(oregon_files, oregon_networks):\n",
    "    n, e, avg_d = extract_info(network)\n",
    "    networks_info[os.path.basename(file)] = [n, e, avg_d]\n",
    "    print(f\"Network {os.path.basename(file)} has {n} nodes, {e} edges, and an average degree of {avg_d}.\")\n",
    "    nx.write_gexf(network, path=\"gephi/\" + os.path.basename(file).replace('.txt', \".gexf\"))"
   ]
  },
  {
   "cell_type": "markdown",
   "metadata": {},
   "source": [
    "#### COND-MAT"
   ]
  },
  {
   "cell_type": "code",
   "execution_count": 12,
   "metadata": {},
   "outputs": [
    {
     "name": "stdout",
     "output_type": "stream",
     "text": [
      "Network ca-CondMat.txt has 23133 nodes, 93497 edges, and an average degree of 8.083430596982666.\n"
     ]
    }
   ],
   "source": [
    "cond_mat_file = FA2_ROOT + \"COND-MAT/ca-CondMat.txt\"\n",
    "cond_mat_network = load_network_from_adjacency(filepath=cond_mat_file, is_directed=False)\n",
    "n, e, avg_d = extract_info(cond_mat_network)\n",
    "networks_info[os.path.basename(cond_mat_file)] = [n, e, avg_d]\n",
    "print(f\"Network {os.path.basename(cond_mat_file)} has {n} nodes, {e} edges, and an average degree of {avg_d}.\")\n",
    "nx.write_gexf(cond_mat_network, path=\"gephi/\" + os.path.basename(cond_mat_file).replace('.txt', \".gexf\"))"
   ]
  },
  {
   "cell_type": "markdown",
   "metadata": {},
   "source": [
    "#### GR-QC"
   ]
  },
  {
   "cell_type": "code",
   "execution_count": 13,
   "metadata": {},
   "outputs": [
    {
     "name": "stdout",
     "output_type": "stream",
     "text": [
      "Network ca-GrQc.txt has 5242 nodes, 14496 edges, and an average degree of 5.530713468141931.\n"
     ]
    }
   ],
   "source": [
    "gr_qc_file = FA2_ROOT + \"GR-QC/ca-GrQc.txt\"\n",
    "gr_qc_network = load_network_from_adjacency(filepath=gr_qc_file, is_directed=False)\n",
    "n, e, avg_d = extract_info(gr_qc_network)\n",
    "networks_info[os.path.basename(gr_qc_file)] = [n, e, avg_d]\n",
    "print(f\"Network {os.path.basename(gr_qc_file)} has {n} nodes, {e} edges, and an average degree of {avg_d}.\")\n",
    "nx.write_gexf(gr_qc_network, path=\"gephi/\" + os.path.basename(gr_qc_file).replace('.txt', \".gexf\"))"
   ]
  },
  {
   "cell_type": "markdown",
   "metadata": {},
   "source": [
    "#### HEP-PH"
   ]
  },
  {
   "cell_type": "code",
   "execution_count": 14,
   "metadata": {},
   "outputs": [
    {
     "name": "stdout",
     "output_type": "stream",
     "text": [
      "Network ca-HepPh.txt has 12008 nodes, 118521 edges, and an average degree of 19.740339773484344.\n"
     ]
    }
   ],
   "source": [
    "hep_ph_file = FA2_ROOT + \"HEP-PH/ca-HepPh.txt\"\n",
    "hep_ph_network = load_network_from_adjacency(filepath=hep_ph_file, is_directed=False)\n",
    "n, e, avg_d = extract_info(hep_ph_network)\n",
    "networks_info[os.path.basename(hep_ph_file)] = [n, e, avg_d]\n",
    "print(f\"Network {os.path.basename(hep_ph_file)} has {n} nodes, {e} edges, and an average degree of {avg_d}.\")\n",
    "nx.write_gexf(hep_ph_network, path=\"gephi/\" + os.path.basename(hep_ph_file).replace('.txt', \".gexf\"))"
   ]
  },
  {
   "cell_type": "markdown",
   "metadata": {},
   "source": [
    "#### Yeast"
   ]
  },
  {
   "cell_type": "code",
   "execution_count": 15,
   "metadata": {},
   "outputs": [
    {
     "name": "stdout",
     "output_type": "stream",
     "text": [
      "Network YeastS.net has 2361 nodes, 7182 edges, and an average degree of 6.083862770012707.\n"
     ]
    }
   ],
   "source": [
    "def load_yeast(filepath: str) -> nx.DiGraph:\n",
    "    with open(file=filepath) as file:\n",
    "        G = nx.DiGraph()\n",
    "        edges = False\n",
    "        for line in file:\n",
    "            if line.startswith(\"*edges\"):\n",
    "                edges = True\n",
    "                continue\n",
    "            if edges:\n",
    "                line = line.rstrip('\\n')\n",
    "                n1, n2 = line.split()\n",
    "                G.add_edge(n1, n2)\n",
    "        return G\n",
    "\n",
    "\n",
    "yeast_file = FA2_ROOT + \"yeast/YeastS.net\"\n",
    "yeast_network = load_yeast(filepath=yeast_file)\n",
    "n, e, avg_d = extract_info(yeast_network)\n",
    "networks_info[os.path.basename(yeast_file)] = [n, e, avg_d]\n",
    "print(f\"Network {os.path.basename(yeast_file)} has {n} nodes, {e} edges, and an average degree of {avg_d}.\")\n",
    "nx.write_gexf(yeast_network, path=\"gephi/yeast.gexf\")"
   ]
  },
  {
   "attachments": {},
   "cell_type": "markdown",
   "metadata": {},
   "source": [
    "#### Gephi Format files"
   ]
  },
  {
   "cell_type": "code",
   "execution_count": 16,
   "metadata": {},
   "outputs": [],
   "source": [
    "networks_info[os.path.basename('celegans')] = [306, 2345, 7.663]\n",
    "networks_info[os.path.basename('mavel')] = [10469, 178115, 34.027]"
   ]
  },
  {
   "attachments": {},
   "cell_type": "markdown",
   "metadata": {},
   "source": [
    "#### Data Exploration"
   ]
  },
  {
   "cell_type": "code",
   "execution_count": 17,
   "metadata": {},
   "outputs": [
    {
     "data": {
      "text/plain": [
       "{'0.edges': [333, 2519, 15.12912912912913],\n",
       " '348.edges': [224, 3192, 28.5],\n",
       " '414.edges': [150, 1693, 22.573333333333334],\n",
       " '698.edges': [61, 270, 8.852459016393443],\n",
       " '107.edges': [1034, 26749, 51.73887814313346],\n",
       " '3437.edges': [534, 4813, 18.026217228464418],\n",
       " '3980.edges': [52, 146, 5.615384615384615],\n",
       " '1912.edges': [747, 30025, 80.38821954484605],\n",
       " '1684.edges': [786, 14024, 35.68447837150127],\n",
       " '686.edges': [168, 1656, 19.714285714285715],\n",
       " '21420959.edges': [91, 1787, 39.27472527472528],\n",
       " '24117694.edges': [246, 9630, 78.29268292682927],\n",
       " '15053535.edges': [18, 26, 2.888888888888889],\n",
       " '215328630.edges': [10, 33, 6.6],\n",
       " '248883350.edges': [184, 9042, 98.28260869565217],\n",
       " '15924858.edges': [10, 39, 7.8],\n",
       " '430313102.edges': [51, 1646, 64.54901960784314],\n",
       " '23503181.edges': [101, 1824, 36.118811881188115],\n",
       " '163374693.edges': [164, 1749, 21.329268292682926],\n",
       " '314316607.edges': [235, 15957, 135.80425531914895],\n",
       " '256497288.edges': [213, 17930, 168.3568075117371],\n",
       " '96545499.edges': [13, 38, 5.846153846153846],\n",
       " '217796457.edges': [184, 12105, 131.57608695652175],\n",
       " '22252971.edges': [23, 34, 2.9565217391304346],\n",
       " '200214366.edges': [183, 9451, 103.2896174863388],\n",
       " '22106463.edges': [156, 1815, 23.26923076923077],\n",
       " '98801140.edges': [5, 5, 2.0],\n",
       " '396721965.edges': [9, 21, 4.666666666666667],\n",
       " '89826562.edges': [216, 9715, 89.95370370370371],\n",
       " '9460682.edges': [88, 2003, 45.52272727272727],\n",
       " '175553601.edges': [201, 8888, 88.43781094527363],\n",
       " '40777046.edges': [25, 39, 3.12],\n",
       " '14711172.edges': [6, 8, 2.6666666666666665],\n",
       " '43858661.edges': [11, 37, 6.7272727272727275],\n",
       " '26346966.edges': [78, 1928, 49.43589743589744],\n",
       " '307458983.edges': [228, 9938, 87.17543859649123],\n",
       " '19933035.edges': [62, 1632, 52.645161290322584],\n",
       " '16987303.edges': [193, 13538, 140.2901554404145],\n",
       " '18481292.edges': [77, 1732, 44.98701298701299],\n",
       " '9254272.edges': [155, 1779, 22.954838709677418],\n",
       " 'oregon2_010331.txt': [10900, 31180, 5.721100917431193],\n",
       " 'oregon2_010407.txt': [10981, 30855, 5.619706766232584],\n",
       " 'oregon2_010428.txt': [11113, 31434, 5.657158283091874],\n",
       " 'oregon2_010505.txt': [11157, 30943, 5.546831585551671],\n",
       " 'oregon2_010512.txt': [11260, 31303, 5.560035523978685],\n",
       " 'oregon2_010519.txt': [11375, 32287, 5.676835164835165],\n",
       " 'oregon2_010526.txt': [11461, 32730, 5.711543495331996],\n",
       " 'oregon2_010414.txt': [11019, 31761, 5.764769942826028],\n",
       " 'oregon2_010421.txt': [11080, 31538, 5.692779783393502],\n",
       " 'ca-CondMat.txt': [23133, 93497, 8.083430596982666],\n",
       " 'ca-GrQc.txt': [5242, 14496, 5.530713468141931],\n",
       " 'ca-HepPh.txt': [12008, 118521, 19.740339773484344],\n",
       " 'YeastS.net': [2361, 7182, 6.083862770012707],\n",
       " 'celegans': [306, 2345, 7.663],\n",
       " 'mavel': [10469, 178115, 34.027]}"
      ]
     },
     "execution_count": 17,
     "metadata": {},
     "output_type": "execute_result"
    }
   ],
   "source": [
    "networks_info"
   ]
  },
  {
   "cell_type": "code",
   "execution_count": 18,
   "metadata": {},
   "outputs": [
    {
     "data": {
      "text/plain": [
       "<matplotlib.collections.PathCollection at 0x16f72fbd0>"
      ]
     },
     "execution_count": 18,
     "metadata": {},
     "output_type": "execute_result"
    },
    {
     "data": {
      "image/png": "[encoded data removed]",
      "text/plain": [
       "<Figure size 640x480 with 1 Axes>"
      ]
     },
     "metadata": {},
     "output_type": "display_data"
    }
   ],
   "source": [
    "nodes, edges = [], []\n",
    "for v in networks_info.values():\n",
    "    nodes.append(v[0])\n",
    "    edges.append(v[1])\n",
    "plt.scatter(nodes, edges)"
   ]
  },
  {
   "cell_type": "markdown",
   "metadata": {},
   "source": [
    "### New datasets"
   ]
  },
  {
   "cell_type": "markdown",
   "metadata": {},
   "source": [
    "#### Imports"
   ]
  },
  {
   "cell_type": "code",
   "execution_count": 19,
   "metadata": {},
   "outputs": [],
   "source": [
    "def load_network_from_csv(filepath: str, is_directed=True):\n",
    "    with open(filepath) as file:\n",
    "        G = nx.DiGraph() if is_directed else nx.Graph()\n",
    "        for line in file:\n",
    "            if line.startswith(\"#\") or (\"source\" in line and \"target\" in line) or \"id\" in line:\n",
    "                continue\n",
    "            line = line.rstrip('\\n')\n",
    "            n1, n2, *_ = line.split(',')\n",
    "            G.add_edge(n1, n2)\n",
    "        return G"
   ]
  },
  {
   "cell_type": "code",
   "execution_count": 20,
   "metadata": {},
   "outputs": [],
   "source": [
    "n_networks_info = {}"
   ]
  },
  {
   "cell_type": "code",
   "execution_count": 21,
   "metadata": {},
   "outputs": [],
   "source": [
    "NEW_DB_ROOT = \"/Volumes/DATA/SNACS datasets/new datasets/\""
   ]
  },
  {
   "attachments": {},
   "cell_type": "markdown",
   "metadata": {},
   "source": [
    "#### cit-HepPh"
   ]
  },
  {
   "cell_type": "code",
   "execution_count": 22,
   "metadata": {},
   "outputs": [
    {
     "name": "stdout",
     "output_type": "stream",
     "text": [
      "Network cit-HepPh.txt has 34546 nodes, 421578 edges, and an average degree of 24.406761998494762.\n"
     ]
    }
   ],
   "source": [
    "cit_hepph_file = NEW_DB_ROOT + \"cit-HepPh/cit-HepPh.txt\"\n",
    "cit_hepph_network = load_network_from_adjacency(filepath=cit_hepph_file, is_directed=True)\n",
    "n, e, avg_d = extract_info(cit_hepph_network)\n",
    "n_networks_info[os.path.basename(cit_hepph_file)] = [n, e, avg_d]\n",
    "print(f\"Network {os.path.basename(cit_hepph_file)} has {n} nodes, {e} edges, and an average degree of {avg_d}.\")\n",
    "nx.write_gexf(cit_hepph_network, path=\"gephi/\" + os.path.basename(cit_hepph_file).replace('.txt', \".gexf\"))"
   ]
  },
  {
   "attachments": {},
   "cell_type": "markdown",
   "metadata": {},
   "source": [
    "#### cit-HepTh"
   ]
  },
  {
   "cell_type": "code",
   "execution_count": 23,
   "metadata": {},
   "outputs": [
    {
     "name": "stdout",
     "output_type": "stream",
     "text": [
      "Network cit-HepTh.txt has 27770 nodes, 352807 edges, and an average degree of 25.409218581202737.\n"
     ]
    }
   ],
   "source": [
    "cit_hepth_file = NEW_DB_ROOT + \"cit-HepTh/cit-HepTh.txt\"\n",
    "cit_hepth_network = load_network_from_adjacency(filepath=cit_hepth_file, is_directed=True)\n",
    "n, e, avg_d = extract_info(cit_hepth_network)\n",
    "n_networks_info[os.path.basename(cit_hepth_file)] = [n, e, avg_d]\n",
    "print(f\"Network {os.path.basename(cit_hepth_file)} has {n} nodes, {e} edges, and an average degree of {avg_d}.\")\n",
    "nx.write_gexf(cit_hepth_network, path=\"gephi/\" + os.path.basename(cit_hepph_file).replace('.txt', \".gexf\"))"
   ]
  },
  {
   "attachments": {},
   "cell_type": "markdown",
   "metadata": {},
   "source": [
    "#### email-Enro"
   ]
  },
  {
   "cell_type": "code",
   "execution_count": 24,
   "metadata": {},
   "outputs": [
    {
     "name": "stdout",
     "output_type": "stream",
     "text": [
      "Network email-Enron.txt has 36692 nodes, 367662 edges, and an average degree of 20.040444783604055.\n"
     ]
    }
   ],
   "source": [
    "email_enron_file = NEW_DB_ROOT + \"email-Enron/email-Enron.txt\"\n",
    "email_enron_network = load_network_from_adjacency(filepath=email_enron_file, is_directed=True)\n",
    "n, e, avg_d = extract_info(email_enron_network)\n",
    "n_networks_info[os.path.basename(email_enron_file)] = [n, e, avg_d]\n",
    "print(f\"Network {os.path.basename(email_enron_file)} has {n} nodes, {e} edges, and an average degree of {avg_d}.\")\n",
    "nx.write_gexf(email_enron_network, path=\"gephi/\" + os.path.basename(email_enron_file).replace('.txt', \".gexf\"))"
   ]
  },
  {
   "attachments": {},
   "cell_type": "markdown",
   "metadata": {},
   "source": [
    "#### p2p-Gnutella24"
   ]
  },
  {
   "cell_type": "code",
   "execution_count": 25,
   "metadata": {},
   "outputs": [
    {
     "name": "stdout",
     "output_type": "stream",
     "text": [
      "Network p2p-Gnutella24.txt has 26518 nodes, 65369 edges, and an average degree of 4.930160645599216.\n"
     ]
    }
   ],
   "source": [
    "p2p_Gnutella24_file = NEW_DB_ROOT + \"p2p-Gnutella24/p2p-Gnutella24.txt\"\n",
    "p2p_Gnutella24_network = load_network_from_adjacency(filepath=p2p_Gnutella24_file, is_directed=True)\n",
    "n, e, avg_d = extract_info(p2p_Gnutella24_network)\n",
    "n_networks_info[os.path.basename(p2p_Gnutella24_file)] = [n, e, avg_d]\n",
    "print(f\"Network {os.path.basename(p2p_Gnutella24_file)} has {n} nodes, {e} edges, and an average degree of {avg_d}.\")\n",
    "nx.write_gexf(p2p_Gnutella24_network, path=\"gephi/\" + os.path.basename(p2p_Gnutella24_file).replace('.txt', \".gexf\"))"
   ]
  },
  {
   "attachments": {},
   "cell_type": "markdown",
   "metadata": {},
   "source": [
    "#### p2p-Gnutella25"
   ]
  },
  {
   "cell_type": "code",
   "execution_count": 26,
   "metadata": {},
   "outputs": [
    {
     "name": "stdout",
     "output_type": "stream",
     "text": [
      "Network p2p-Gnutella25.txt has 22687 nodes, 54705 edges, and an average degree of 4.822585621721691.\n"
     ]
    }
   ],
   "source": [
    "p2p_Gnutella25_file = NEW_DB_ROOT + \"p2p-Gnutella25/p2p-Gnutella25.txt\"\n",
    "p2p_Gnutella25_network = load_network_from_adjacency(filepath=p2p_Gnutella25_file, is_directed=True)\n",
    "n, e, avg_d = extract_info(p2p_Gnutella25_network)\n",
    "n_networks_info[os.path.basename(p2p_Gnutella25_file)] = [n, e, avg_d]\n",
    "print(f\"Network {os.path.basename(p2p_Gnutella25_file)} has {n} nodes, {e} edges, and an average degree of {avg_d}.\")\n",
    "nx.write_gexf(p2p_Gnutella25_network, path=\"gephi/\" + os.path.basename(p2p_Gnutella25_file).replace('.txt', \".gexf\"))"
   ]
  },
  {
   "attachments": {},
   "cell_type": "markdown",
   "metadata": {},
   "source": [
    "#### sx-mathoverflow"
   ]
  },
  {
   "cell_type": "code",
   "execution_count": 27,
   "metadata": {},
   "outputs": [
    {
     "name": "stdout",
     "output_type": "stream",
     "text": [
      "Network sx-mathoverflow.txt has 24818 nodes, 239978 edges, and an average degree of 19.339028124748168.\n"
     ]
    }
   ],
   "source": [
    "sx_mathoverflow_file = NEW_DB_ROOT + \"sx-mathoverflow/sx-mathoverflow.txt\"\n",
    "sx_mathoverflow_network = load_network_from_adjacency(filepath=sx_mathoverflow_file, is_directed=True)\n",
    "n, e, avg_d = extract_info(sx_mathoverflow_network)\n",
    "n_networks_info[os.path.basename(sx_mathoverflow_file)] = [n, e, avg_d]\n",
    "print(f\"Network {os.path.basename(sx_mathoverflow_file)} has {n} nodes, {e} edges, and an average degree of {avg_d}.\")\n",
    "nx.write_gexf(sx_mathoverflow_network, path=\"gephi/\" + os.path.basename(sx_mathoverflow_file).replace('.txt', \".gexf\"))"
   ]
  },
  {
   "attachments": {},
   "cell_type": "markdown",
   "metadata": {},
   "source": [
    "#### sx-mathoverflow-a2q"
   ]
  },
  {
   "cell_type": "code",
   "execution_count": 28,
   "metadata": {},
   "outputs": [
    {
     "name": "stdout",
     "output_type": "stream",
     "text": [
      "Network sx-mathoverflow-a2q.txt has 21688 nodes, 90489 edges, and an average degree of 8.344614533382515.\n"
     ]
    }
   ],
   "source": [
    "sx_mathoverflow_a2q_file = NEW_DB_ROOT + \"sx-mathoverflow-a2q/sx-mathoverflow-a2q.txt\"\n",
    "sx_mathoverflow_a2q_network = load_network_from_adjacency(filepath=sx_mathoverflow_a2q_file, is_directed=True)\n",
    "n, e, avg_d = extract_info(sx_mathoverflow_a2q_network)\n",
    "n_networks_info[os.path.basename(sx_mathoverflow_a2q_file)] = [n, e, avg_d]\n",
    "print(f\"Network {os.path.basename(sx_mathoverflow_a2q_file)} has {n} nodes, {e} edges, and an average degree of {avg_d}.\")\n",
    "nx.write_gexf(sx_mathoverflow_a2q_network, path=\"gephi/\" + os.path.basename(sx_mathoverflow_a2q_file).replace('.txt', \".gexf\"))"
   ]
  },
  {
   "attachments": {},
   "cell_type": "markdown",
   "metadata": {},
   "source": [
    "#### sx-mathoverflow-c2a"
   ]
  },
  {
   "cell_type": "code",
   "execution_count": 29,
   "metadata": {},
   "outputs": [
    {
     "name": "stdout",
     "output_type": "stream",
     "text": [
      "Network sx-mathoverflow-c2a.txt has 13840 nodes, 81121 edges, and an average degree of 11.722687861271677.\n"
     ]
    }
   ],
   "source": [
    "sx_mathoverflow_c2a_file = NEW_DB_ROOT + \"sx-mathoverflow-c2a/sx-mathoverflow-c2a.txt\"\n",
    "sx_mathoverflow_c2a_network = load_network_from_adjacency(filepath=sx_mathoverflow_c2a_file, is_directed=True)\n",
    "n, e, avg_d = extract_info(sx_mathoverflow_c2a_network)\n",
    "n_networks_info[os.path.basename(sx_mathoverflow_c2a_file)] = [n, e, avg_d]\n",
    "print(f\"Network {os.path.basename(sx_mathoverflow_c2a_file)} has {n} nodes, {e} edges, and an average degree of {avg_d}.\")\n",
    "nx.write_gexf(sx_mathoverflow_c2a_network, path=\"gephi/\" + os.path.basename(sx_mathoverflow_c2a_file).replace('.txt', \".gexf\"))"
   ]
  },
  {
   "attachments": {},
   "cell_type": "markdown",
   "metadata": {},
   "source": [
    "#### sx-mathoverflow-c2q"
   ]
  },
  {
   "cell_type": "code",
   "execution_count": 30,
   "metadata": {},
   "outputs": [
    {
     "name": "stdout",
     "output_type": "stream",
     "text": [
      "Network sx-mathoverflow-c2q.txt has 16836 nodes, 101329 edges, and an average degree of 12.037182228557851.\n"
     ]
    }
   ],
   "source": [
    "sx_mathoverflow_c2q_file = NEW_DB_ROOT + \"sx-mathoverflow-c2q/sx-mathoverflow-c2q.txt\"\n",
    "sx_mathoverflow_c2q_network = load_network_from_adjacency(filepath=sx_mathoverflow_c2q_file, is_directed=True)\n",
    "n, e, avg_d = extract_info(sx_mathoverflow_c2q_network)\n",
    "n_networks_info[os.path.basename(sx_mathoverflow_c2q_file)] = [n, e, avg_d]\n",
    "print(f\"Network {os.path.basename(sx_mathoverflow_c2q_file)} has {n} nodes, {e} edges, and an average degree of {avg_d}.\")\n",
    "nx.write_gexf(sx_mathoverflow_c2q_network, path=\"gephi/\" + os.path.basename(sx_mathoverflow_c2q_file).replace('.txt', \".gexf\"))"
   ]
  },
  {
   "attachments": {},
   "cell_type": "markdown",
   "metadata": {},
   "source": [
    "#### facebook-large"
   ]
  },
  {
   "cell_type": "code",
   "execution_count": 31,
   "metadata": {},
   "outputs": [
    {
     "name": "stdout",
     "output_type": "stream",
     "text": [
      "Network musae_facebook_edges.csv has 22470 nodes, 171002 edges, and an average degree of 15.220471740097908.\n"
     ]
    }
   ],
   "source": [
    "facebook_musae_file = NEW_DB_ROOT + \"facebook_large/musae_facebook_edges.csv\"\n",
    "facebook_musae_network = load_network_from_csv(filepath=facebook_musae_file, is_directed=False)\n",
    "n, e, avg_d = extract_info(facebook_musae_network)\n",
    "n_networks_info[os.path.basename(facebook_musae_file)] = [n, e, avg_d]\n",
    "print(f\"Network {os.path.basename(facebook_musae_file)} has {n} nodes, {e} edges, and an average degree of {avg_d}.\")\n",
    "nx.write_gexf(facebook_musae_network, path=\"gephi/\" + os.path.basename(facebook_musae_file).replace('.csv', \".gexf\"))"
   ]
  },
  {
   "attachments": {},
   "cell_type": "markdown",
   "metadata": {},
   "source": [
    "#### Data Exploration"
   ]
  },
  {
   "cell_type": "code",
   "execution_count": 32,
   "metadata": {},
   "outputs": [
    {
     "data": {
      "text/plain": [
       "{'cit-HepPh.txt': [34546, 421578, 24.406761998494762],\n",
       " 'cit-HepTh.txt': [27770, 352807, 25.409218581202737],\n",
       " 'email-Enron.txt': [36692, 367662, 20.040444783604055],\n",
       " 'p2p-Gnutella24.txt': [26518, 65369, 4.930160645599216],\n",
       " 'p2p-Gnutella25.txt': [22687, 54705, 4.822585621721691],\n",
       " 'sx-mathoverflow.txt': [24818, 239978, 19.339028124748168],\n",
       " 'sx-mathoverflow-a2q.txt': [21688, 90489, 8.344614533382515],\n",
       " 'sx-mathoverflow-c2a.txt': [13840, 81121, 11.722687861271677],\n",
       " 'sx-mathoverflow-c2q.txt': [16836, 101329, 12.037182228557851],\n",
       " 'musae_facebook_edges.csv': [22470, 171002, 15.220471740097908]}"
      ]
     },
     "execution_count": 32,
     "metadata": {},
     "output_type": "execute_result"
    }
   ],
   "source": [
    "n_networks_info"
   ]
  }
 ],
 "metadata": {
  "kernelspec": {
   "display_name": "Python 3.11.0 ('snacs_fa2')",
   "language": "python",
   "name": "python3"
  },
  "language_info": {
   "codemirror_mode": {
    "name": "ipython",
    "version": 3
   },
   "file_extension": ".py",
   "mimetype": "text/x-python",
   "name": "python",
   "nbconvert_exporter": "python",
   "pygments_lexer": "ipython3",
   "version": "3.11.0"
  },
  "orig_nbformat": 4,
  "vscode": {
   "interpreter": {
    "hash": "9b53721b5209f6b27dfd4e42935fce446bc21767b4dde0d1cab774fb75f6cafa"
   }
  }
 },
 "nbformat": 4,
 "nbformat_minor": 2
}
