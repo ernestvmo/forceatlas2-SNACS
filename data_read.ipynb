{
 "cells": [
  {
   "cell_type": "markdown",
   "metadata": {},
   "source": [
    "## Imports"
   ]
  },
  {
   "cell_type": "code",
   "execution_count": 2,
   "metadata": {},
   "outputs": [],
   "source": [
    "import os\n",
    "import glob\n",
    "\n",
    "import networkx as nx"
   ]
  },
  {
   "cell_type": "markdown",
   "metadata": {},
   "source": [
    "## Load datasets"
   ]
  },
  {
   "cell_type": "markdown",
   "metadata": {},
   "source": [
    "### FA2 paper datasets"
   ]
  },
  {
   "cell_type": "code",
   "execution_count": 9,
   "metadata": {},
   "outputs": [],
   "source": [
    "def load_network_from_adjacency(filepath: str, is_directed=True, sep=\" \") -> nx.Graph:\n",
    "    with open(filepath) as file:\n",
    "        G = nx.DiGraph() if is_directed else nx.Graph()\n",
    "        for line in file:\n",
    "            if line.startswith('#'): continue\n",
    "            line = line.rstrip('\\n')\n",
    "            n1, n2 = line.split()\n",
    "            G.add_edge(n1, n2)\n",
    "    return G"
   ]
  },
  {
   "cell_type": "code",
   "execution_count": 10,
   "metadata": {},
   "outputs": [],
   "source": [
    "FA2_ROOT = \"/Volumes/ERNESTV/SNACS datasets/FA2 datasets/\""
   ]
  },
  {
   "cell_type": "markdown",
   "metadata": {},
   "source": [
    "#### Extract Basic Infos"
   ]
  },
  {
   "cell_type": "code",
   "execution_count": 11,
   "metadata": {},
   "outputs": [],
   "source": [
    "def extract_info(G: nx.Graph):\n",
    "    nodes = G.number_of_nodes()\n",
    "    edges = G.number_of_edges()\n",
    "    avg_degree = sum(dict(G.degree()).values()) / float(nodes)\n",
    "    return nodes, edges, avg_degree"
   ]
  },
  {
   "cell_type": "markdown",
   "metadata": {},
   "source": [
    "#### Facebook"
   ]
  },
  {
   "cell_type": "code",
   "execution_count": 5,
   "metadata": {},
   "outputs": [],
   "source": [
    "fb_path = FA2_ROOT + \"facebook/*.edges\"\n",
    "fb_files = glob.glob(fb_path)\n",
    "fb_networks = []\n",
    "for file in fb_files:\n",
    "    fb_networks.append(load_network_from_adjacency(filepath=file, is_directed=False))"
   ]
  },
  {
   "cell_type": "code",
   "execution_count": 6,
   "metadata": {},
   "outputs": [
    {
     "name": "stdout",
     "output_type": "stream",
     "text": [
      "Network 0.edges has 333 nodes, 2519 edges, and an average degree of 15.12912912912913.\n",
      "Network 348.edges has 224 nodes, 3192 edges, and an average degree of 28.5.\n",
      "Network 414.edges has 150 nodes, 1693 edges, and an average degree of 22.573333333333334.\n",
      "Network 698.edges has 61 nodes, 270 edges, and an average degree of 8.852459016393443.\n",
      "Network 107.edges has 1034 nodes, 26749 edges, and an average degree of 51.73887814313346.\n",
      "Network 3437.edges has 534 nodes, 4813 edges, and an average degree of 18.026217228464418.\n",
      "Network 3980.edges has 52 nodes, 146 edges, and an average degree of 5.615384615384615.\n",
      "Network 1912.edges has 747 nodes, 30025 edges, and an average degree of 80.38821954484605.\n",
      "Network 1684.edges has 786 nodes, 14024 edges, and an average degree of 35.68447837150127.\n",
      "Network 686.edges has 168 nodes, 1656 edges, and an average degree of 19.714285714285715.\n"
     ]
    }
   ],
   "source": [
    "for file, network in zip(fb_files, fb_networks):\n",
    "    n, e, avg_d = extract_info(network)\n",
    "    print(f\"Network {os.path.basename(file)} has {n} nodes, {e} edges, and an average degree of {avg_d}.\")\n",
    "    nx.write_gexf(network, path=\"gephi/\" + os.path.basename(file).replace('.edges', \".gexf\"))"
   ]
  },
  {
   "cell_type": "markdown",
   "metadata": {},
   "source": [
    "#### Twitter"
   ]
  },
  {
   "cell_type": "code",
   "execution_count": 7,
   "metadata": {},
   "outputs": [],
   "source": [
    "twitter_path = FA2_ROOT + \"twitter_use/*.edges\"\n",
    "twitter_files = glob.glob(twitter_path)\n",
    "twitter_networks = []\n",
    "for file in twitter_files:\n",
    "    twitter_networks.append(load_network_from_adjacency(filepath=file, is_directed=True))"
   ]
  },
  {
   "cell_type": "code",
   "execution_count": 8,
   "metadata": {},
   "outputs": [
    {
     "name": "stdout",
     "output_type": "stream",
     "text": [
      "Network 21420959.edges has 91 nodes, 1787 edges, and an average degree of 39.27472527472528.\n",
      "Network 24117694.edges has 246 nodes, 9630 edges, and an average degree of 78.29268292682927.\n",
      "Network 15053535.edges has 18 nodes, 26 edges, and an average degree of 2.888888888888889.\n",
      "Network 215328630.edges has 10 nodes, 33 edges, and an average degree of 6.6.\n",
      "Network 248883350.edges has 184 nodes, 9042 edges, and an average degree of 98.28260869565217.\n",
      "Network 15924858.edges has 10 nodes, 39 edges, and an average degree of 7.8.\n",
      "Network 430313102.edges has 51 nodes, 1646 edges, and an average degree of 64.54901960784314.\n",
      "Network 23503181.edges has 101 nodes, 1824 edges, and an average degree of 36.118811881188115.\n",
      "Network 163374693.edges has 164 nodes, 1749 edges, and an average degree of 21.329268292682926.\n",
      "Network 314316607.edges has 235 nodes, 15957 edges, and an average degree of 135.80425531914895.\n",
      "Network 256497288.edges has 213 nodes, 17930 edges, and an average degree of 168.3568075117371.\n",
      "Network 96545499.edges has 13 nodes, 38 edges, and an average degree of 5.846153846153846.\n",
      "Network 217796457.edges has 184 nodes, 12105 edges, and an average degree of 131.57608695652175.\n",
      "Network 22252971.edges has 23 nodes, 34 edges, and an average degree of 2.9565217391304346.\n",
      "Network 200214366.edges has 183 nodes, 9451 edges, and an average degree of 103.2896174863388.\n",
      "Network 22106463.edges has 156 nodes, 1815 edges, and an average degree of 23.26923076923077.\n",
      "Network 98801140.edges has 5 nodes, 5 edges, and an average degree of 2.0.\n",
      "Network 396721965.edges has 9 nodes, 21 edges, and an average degree of 4.666666666666667.\n",
      "Network 89826562.edges has 216 nodes, 9715 edges, and an average degree of 89.95370370370371.\n",
      "Network 9460682.edges has 88 nodes, 2003 edges, and an average degree of 45.52272727272727.\n",
      "Network 175553601.edges has 201 nodes, 8888 edges, and an average degree of 88.43781094527363.\n",
      "Network 40777046.edges has 25 nodes, 39 edges, and an average degree of 3.12.\n",
      "Network 14711172.edges has 6 nodes, 8 edges, and an average degree of 2.6666666666666665.\n",
      "Network 43858661.edges has 11 nodes, 37 edges, and an average degree of 6.7272727272727275.\n",
      "Network 26346966.edges has 78 nodes, 1928 edges, and an average degree of 49.43589743589744.\n",
      "Network 307458983.edges has 228 nodes, 9938 edges, and an average degree of 87.17543859649123.\n",
      "Network 19933035.edges has 62 nodes, 1632 edges, and an average degree of 52.645161290322584.\n",
      "Network 16987303.edges has 193 nodes, 13538 edges, and an average degree of 140.2901554404145.\n",
      "Network 18481292.edges has 77 nodes, 1732 edges, and an average degree of 44.98701298701299.\n",
      "Network 9254272.edges has 155 nodes, 1779 edges, and an average degree of 22.954838709677418.\n"
     ]
    }
   ],
   "source": [
    "for file, network in zip(twitter_files, twitter_networks):\n",
    "    n, e, avg_d = extract_info(network)\n",
    "    print(f\"Network {os.path.basename(file)} has {n} nodes, {e} edges, and an average degree of {avg_d}.\")\n",
    "    nx.write_gexf(network, path=\"gephi/\" + os.path.basename(file).replace('.edges', \".gexf\"))"
   ]
  },
  {
   "cell_type": "markdown",
   "metadata": {},
   "source": [
    "#### Oregon-2"
   ]
  },
  {
   "cell_type": "code",
   "execution_count": 9,
   "metadata": {},
   "outputs": [],
   "source": [
    "oregon_path = FA2_ROOT + \"oregon/*.txt\"\n",
    "oregon_files = glob.glob(oregon_path)\n",
    "oregon_networks = []\n",
    "for file in oregon_files:\n",
    "    oregon_networks.append(load_network_from_adjacency(file, is_directed=False))"
   ]
  },
  {
   "cell_type": "code",
   "execution_count": 10,
   "metadata": {},
   "outputs": [
    {
     "name": "stdout",
     "output_type": "stream",
     "text": [
      "Network oregon2_010331.txt has 10900 nodes, 31180 edges, and an average degree of 5.721100917431193.\n",
      "Network oregon2_010407.txt has 10981 nodes, 30855 edges, and an average degree of 5.619706766232584.\n",
      "Network oregon2_010428.txt has 11113 nodes, 31434 edges, and an average degree of 5.657158283091874.\n",
      "Network oregon2_010505.txt has 11157 nodes, 30943 edges, and an average degree of 5.546831585551671.\n",
      "Network oregon2_010512.txt has 11260 nodes, 31303 edges, and an average degree of 5.560035523978685.\n",
      "Network oregon2_010519.txt has 11375 nodes, 32287 edges, and an average degree of 5.676835164835165.\n",
      "Network oregon2_010526.txt has 11461 nodes, 32730 edges, and an average degree of 5.711543495331996.\n",
      "Network oregon2_010414.txt has 11019 nodes, 31761 edges, and an average degree of 5.764769942826028.\n",
      "Network oregon2_010421.txt has 11080 nodes, 31538 edges, and an average degree of 5.692779783393502.\n"
     ]
    }
   ],
   "source": [
    "for file, network in zip(oregon_files, oregon_networks):\n",
    "    n, e, avg_d = extract_info(network)\n",
    "    print(f\"Network {os.path.basename(file)} has {n} nodes, {e} edges, and an average degree of {avg_d}.\")\n",
    "    nx.write_gexf(network, path=\"gephi/\" + os.path.basename(file).replace('.edges', \".gexf\"))"
   ]
  },
  {
   "cell_type": "markdown",
   "metadata": {},
   "source": [
    "#### COND-MAT"
   ]
  },
  {
   "cell_type": "code",
   "execution_count": 11,
   "metadata": {},
   "outputs": [],
   "source": [
    "cond_mat_file = FA2_ROOT + \"COND-MAT/ca-CondMat.txt\"\n",
    "cond_mat_network = load_network_from_adjacency(filepath=cond_mat_file, is_directed=False)"
   ]
  },
  {
   "cell_type": "code",
   "execution_count": 12,
   "metadata": {},
   "outputs": [
    {
     "name": "stdout",
     "output_type": "stream",
     "text": [
      "Network ca-CondMat.txt has 23133 nodes, 93497 edges, and an average degree of 8.083430596982666.\n"
     ]
    }
   ],
   "source": [
    "n, e, avg_d = extract_info(cond_mat_network)\n",
    "print(f\"Network {os.path.basename(cond_mat_file)} has {n} nodes, {e} edges, and an average degree of {avg_d}.\")\n",
    "nx.write_gexf(cond_mat_network, path=\"gephi/\" + os.path.basename(cond_mat_file).replace('.edges', \".gexf\"))"
   ]
  },
  {
   "cell_type": "markdown",
   "metadata": {},
   "source": [
    "#### GR-QC"
   ]
  },
  {
   "cell_type": "code",
   "execution_count": 13,
   "metadata": {},
   "outputs": [],
   "source": [
    "gr_qc_file = FA2_ROOT + \"GR-QC/ca-GrQc.txt\"\n",
    "gr_qc_network = load_network_from_adjacency(filepath=gr_qc_file, is_directed=False)"
   ]
  },
  {
   "cell_type": "code",
   "execution_count": 14,
   "metadata": {},
   "outputs": [
    {
     "name": "stdout",
     "output_type": "stream",
     "text": [
      "Network ca-GrQc.txt has 5242 nodes, 14496 edges, and an average degree of 5.530713468141931.\n"
     ]
    }
   ],
   "source": [
    "n, e, avg_d = extract_info(gr_qc_network)\n",
    "print(f\"Network {os.path.basename(gr_qc_file)} has {n} nodes, {e} edges, and an average degree of {avg_d}.\")\n",
    "nx.write_gexf(gr_qc_network, path=\"gephi/\" + os.path.basename(gr_qc_file).replace('.edges', \".gexf\"))"
   ]
  },
  {
   "cell_type": "markdown",
   "metadata": {},
   "source": [
    "#### HEP-PH"
   ]
  },
  {
   "cell_type": "code",
   "execution_count": 15,
   "metadata": {},
   "outputs": [],
   "source": [
    "hep_ph_file = FA2_ROOT + \"HEP-PH/ca-HepPh.txt\"\n",
    "hep_ph_network = load_network_from_adjacency(filepath=hep_ph_file, is_directed=False)"
   ]
  },
  {
   "cell_type": "code",
   "execution_count": 16,
   "metadata": {},
   "outputs": [
    {
     "name": "stdout",
     "output_type": "stream",
     "text": [
      "Network ca-HepPh.txt has 12008 nodes, 118521 edges, and an average degree of 19.740339773484344.\n"
     ]
    }
   ],
   "source": [
    "n, e, avg_d = extract_info(hep_ph_network)\n",
    "print(f\"Network {os.path.basename(hep_ph_file)} has {n} nodes, {e} edges, and an average degree of {avg_d}.\")\n",
    "nx.write_gexf(hep_ph_network, path=\"gephi/\" + os.path.basename(hep_ph_file).replace('.edges', \".gexf\"))"
   ]
  },
  {
   "cell_type": "markdown",
   "metadata": {},
   "source": [
    "#### Yeast"
   ]
  },
  {
   "cell_type": "code",
   "execution_count": 17,
   "metadata": {},
   "outputs": [],
   "source": [
    "def load_yeast(filepath: str) -> nx.DiGraph:\n",
    "    with open(file=filepath) as file:\n",
    "        G = nx.DiGraph()\n",
    "        edges = False\n",
    "        for line in file:\n",
    "            if line.startswith(\"*edges\"):\n",
    "                edges = True\n",
    "                continue\n",
    "            if edges:\n",
    "                line = line.rstrip('\\n')\n",
    "                n1, n2 = line.split()\n",
    "                G.add_edge(n1, n2)\n",
    "        return G"
   ]
  },
  {
   "cell_type": "code",
   "execution_count": 18,
   "metadata": {},
   "outputs": [],
   "source": [
    "yeast_file = FA2_ROOT + \"yeast/YeastS.net\"\n",
    "yeast_network = load_yeast(filepath=yeast_file)"
   ]
  },
  {
   "cell_type": "code",
   "execution_count": 19,
   "metadata": {},
   "outputs": [
    {
     "name": "stdout",
     "output_type": "stream",
     "text": [
      "Network YeastS.net has 2361 nodes, 7182 edges, and an average degree of 6.083862770012707.\n"
     ]
    }
   ],
   "source": [
    "n, e, avg_d = extract_info(yeast_network)\n",
    "print(f\"Network {os.path.basename(yeast_file)} has {n} nodes, {e} edges, and an average degree of {avg_d}.\")\n",
    "nx.write_gexf(yeast_network, path=\"gephi/yeast.gexf\")"
   ]
  },
  {
   "cell_type": "markdown",
   "metadata": {},
   "source": [
    "### New datasets"
   ]
  },
  {
   "cell_type": "markdown",
   "metadata": {},
   "source": [
    "#### Imports"
   ]
  },
  {
   "cell_type": "code",
   "execution_count": 3,
   "metadata": {},
   "outputs": [
    {
     "name": "stderr",
     "output_type": "stream",
     "text": [
      "objc[29875]: Class GNotificationCenterDelegate is implemented in both /opt/miniconda3/envs/snacs_fa2/lib/libgio-2.0.0.dylib (0x16f671c30) and /usr/local/Cellar/glib/2.74.0/lib/libgio-2.0.0.dylib (0x17cf6c6b0). One of the two will be used. Which one is undefined.\n"
     ]
    }
   ],
   "source": [
    "from graph_tool.all import collection as gt_coll\n",
    "import graph_tool as gt\n",
    "from graph_tool.stats import vertex_average"
   ]
  },
  {
   "cell_type": "code",
   "execution_count": 4,
   "metadata": {},
   "outputs": [],
   "source": [
    "def extract_info_gt(G: gt.Graph):\n",
    "    nodes = len(G.get_vertices())    \n",
    "    edges = len(G.get_edges())\n",
    "    avg_degree = vertex_average(G, deg='total')\n",
    "    return nodes, edges, avg_d"
   ]
  },
  {
   "cell_type": "code",
   "execution_count": 25,
   "metadata": {},
   "outputs": [],
   "source": [
    "def load_network_from_csv(filename: str, is_directed=True):\n",
    "    with open(filename) as file:\n",
    "        G = nx.DiGraph() if is_directed else nx.Graph()\n",
    "        count = 10\n",
    "        for line in file:\n",
    "            if count == 0:\n",
    "                break\n",
    "            line = line.rstrip('\\n')\n",
    "            n1, n2, *_ = line.split(',')\n",
    "            G.add_edge(n1, n2)\n",
    "        return G"
   ]
  },
  {
   "cell_type": "code",
   "execution_count": 6,
   "metadata": {},
   "outputs": [],
   "source": [
    "NEW_DB_ROOT = \"/Volumes/ERNESTV/SNACS datasets/new datasets/\""
   ]
  },
  {
   "cell_type": "markdown",
   "metadata": {},
   "source": [
    "#### academia_edu"
   ]
  },
  {
   "cell_type": "code",
   "execution_count": 14,
   "metadata": {},
   "outputs": [
    {
     "name": "stdout",
     "output_type": "stream",
     "text": [
      "Network academia_edu has 200171 nodes, 1398064 edges, and an average degree of 13.968696764266552.\n"
     ]
    }
   ],
   "source": [
    "network_name = 'academia_edu'\n",
    "academia_edu_file = NEW_DB_ROOT + network_name + '/edges.csv'\n",
    "academia_edu_network = load_network_from_csv(academia_edu_file)\n",
    "n, e, avg_d = extract_info(academia_edu_network)\n",
    "print(f\"Network {network_name} has {n} nodes, {e} edges, and an average degree of {avg_d}.\")\n",
    "nx.write_gexf(academia_edu_network, path=\"gephi/\" + network_name + \".gexf\")"
   ]
  },
  {
   "cell_type": "markdown",
   "metadata": {},
   "source": [
    "#### dbpedia_corporation"
   ]
  },
  {
   "cell_type": "code",
   "execution_count": 16,
   "metadata": {},
   "outputs": [
    {
     "name": "stdout",
     "output_type": "stream",
     "text": [
      "Network dbpedia_corporation has 266554 nodes, 463498 edges, and an average degree of 3.4777043300794586.\n"
     ]
    }
   ],
   "source": [
    "network_name = 'dbpedia_corporation'\n",
    "dbpedia_corporation_file = NEW_DB_ROOT + network_name + '/edges.csv'\n",
    "dbpedia_corporation_network = load_network_from_csv(dbpedia_corporation_file, is_directed=False)\n",
    "n, e, avg_d = extract_info(dbpedia_corporation_network)\n",
    "print(f\"Network {network_name} has {n} nodes, {e} edges, and an average degree of {avg_d}.\")\n",
    "nx.write_gexf(dbpedia_corporation_network, path=\"gephi/\" + network_name + \".gexf\")"
   ]
  },
  {
   "cell_type": "markdown",
   "metadata": {},
   "source": [
    "#### dbpedia_genre"
   ]
  },
  {
   "cell_type": "code",
   "execution_count": 18,
   "metadata": {},
   "outputs": [
    {
     "name": "stdout",
     "output_type": "stream",
     "text": [
      "Network dbpedia_genre has 266554 nodes, 463498 edges, and an average degree of 3.4777043300794586.\n"
     ]
    }
   ],
   "source": [
    "network_name = 'dbpedia_genre'\n",
    "dbpedia_genre_file = NEW_DB_ROOT + network_name + '/edges.csv'\n",
    "dbpedia_genre_network = load_network_from_csv(dbpedia_genre_file, is_directed=False)\n",
    "n, e, avg_d = extract_info(dbpedia_genre_network)\n",
    "print(f\"Network {network_name} has {n} nodes, {e} edges, and an average degree of {avg_d}.\")\n",
    "nx.write_gexf(dbpedia_genre_network, path=\"gephi/\" + network_name + \".gexf\")"
   ]
  },
  {
   "cell_type": "markdown",
   "metadata": {},
   "source": [
    "#### notre_dame_web"
   ]
  },
  {
   "cell_type": "code",
   "execution_count": 19,
   "metadata": {},
   "outputs": [
    {
     "name": "stdout",
     "output_type": "stream",
     "text": [
      "Network notre_dame_web has 325731 nodes, 1497135 edges, and an average degree of 9.192462492056329.\n"
     ]
    }
   ],
   "source": [
    "network_name = 'notre_dame_web'\n",
    "notre_dame_web_file = NEW_DB_ROOT + network_name + '/edges.csv'\n",
    "notre_dame_web_network = load_network_from_csv(notre_dame_web_file)\n",
    "n, e, avg_d = extract_info(notre_dame_web_network)\n",
    "print(f\"Network {network_name} has {n} nodes, {e} edges, and an average degree of {avg_d}.\")\n",
    "nx.write_gexf(notre_dame_web_network, path=\"gephi/\" + network_name + \".gexf\")"
   ]
  },
  {
   "cell_type": "markdown",
   "metadata": {},
   "source": [
    "#### corporate_directors"
   ]
  },
  {
   "cell_type": "code",
   "execution_count": 20,
   "metadata": {},
   "outputs": [
    {
     "name": "stdout",
     "output_type": "stream",
     "text": [
      "Network corporate_directors has 356640 nodes, 376919 edges, and an average degree of 2.1137225213100046.\n"
     ]
    }
   ],
   "source": [
    "network_name = 'corporate_directors'\n",
    "corporate_directors_file = NEW_DB_ROOT + network_name + '/edges.csv'\n",
    "corporate_directors_network = load_network_from_csv(corporate_directors_file, is_directed=False)\n",
    "n, e, avg_d = extract_info(corporate_directors_network)\n",
    "print(f\"Network {network_name} has {n} nodes, {e} edges, and an average degree of {avg_d}.\")\n",
    "nx.write_gexf(corporate_directors_network, path=\"gephi/\" + network_name + \".gexf\")"
   ]
  },
  {
   "cell_type": "markdown",
   "metadata": {},
   "source": [
    "#### lkml_thread"
   ]
  },
  {
   "cell_type": "code",
   "execution_count": 29,
   "metadata": {},
   "outputs": [],
   "source": [
    "network_name = 'lkml_thread'\n",
    "lkml_thread_file = NEW_DB_ROOT + network_name + '/edges.csv'\n",
    "lkml_thread_network = load_network_from_csv(lkml_thread_file, is_directed=True)\n",
    "n, e, avg_d = extract_info(lkml_thread_network)\n",
    "print(f\"Network {network_name} has {n} nodes, {e} edges, and an average degree of {avg_d}.\")\n",
    "nx.write_gexf(lkml_thread_network, path=\"gephi/\" + network_name + \".gexf\")"
   ]
  },
  {
   "cell_type": "markdown",
   "metadata": {},
   "source": [
    "#### bookcrossing"
   ]
  },
  {
   "cell_type": "code",
   "execution_count": 27,
   "metadata": {},
   "outputs": [
    {
     "name": "stdout",
     "output_type": "stream",
     "text": [
      "Network bookcrossing has 445803 nodes, 1149740 edges, and an average degree of 5.158063090647663.\n"
     ]
    }
   ],
   "source": [
    "network_name = 'bookcrossing'\n",
    "bookcrossing_file = NEW_DB_ROOT + network_name + '/edges.csv'\n",
    "bookcrossing_network = load_network_from_csv(bookcrossing_file, is_directed=False)\n",
    "n, e, avg_d = extract_info(bookcrossing_network)\n",
    "print(f\"Network {network_name} has {n} nodes, {e} edges, and an average degree of {avg_d}.\")\n",
    "nx.write_gexf(bookcrossing_network, path=\"gephi/\" + network_name + \".gexf\")"
   ]
  },
  {
   "cell_type": "markdown",
   "metadata": {},
   "source": [
    "#### petster"
   ]
  },
  {
   "cell_type": "code",
   "execution_count": null,
   "metadata": {},
   "outputs": [],
   "source": [
    "network_name = 'petster'\n",
    "petster_file = NEW_DB_ROOT + network_name + '/edges.csv'\n",
    "petster_network = load_network_from_csv(petster_file, is_directed=False)\n",
    "n, e, avg_d = extract_info(petster_network)\n",
    "print(f\"Network {network_name} has {n} nodes, {e} edges, and an average degree of {avg_d}.\")\n",
    "nx.write_gexf(petster_network, path=\"gephi/\" + network_name + \".gexf\")"
   ]
  },
  {
   "cell_type": "markdown",
   "metadata": {},
   "source": [
    "#### berkstan_web"
   ]
  },
  {
   "cell_type": "code",
   "execution_count": null,
   "metadata": {},
   "outputs": [],
   "source": [
    "network_name = 'berkstan_web'\n",
    "berkstan_web_file = NEW_DB_ROOT + network_name + '/edges.csv'\n",
    "berkstan_web_network = load_network_from_csv(berkstan_web_file, is_directed=True)\n",
    "n, e, avg_d = extract_info(berkstan_web_network)\n",
    "print(f\"Network {network_name} has {n} nodes, {e} edges, and an average degree of {avg_d}.\")\n",
    "nx.write_gexf(berkstan_web_network, path=\"gephi/\" + network_name + \".gexf\")"
   ]
  }
 ],
 "metadata": {
  "kernelspec": {
   "display_name": "Python 3.11.0 ('snacs_fa2')",
   "language": "python",
   "name": "python3"
  },
  "language_info": {
   "codemirror_mode": {
    "name": "ipython",
    "version": 3
   },
   "file_extension": ".py",
   "mimetype": "text/x-python",
   "name": "python",
   "nbconvert_exporter": "python",
   "pygments_lexer": "ipython3",
   "version": "3.11.0"
  },
  "orig_nbformat": 4,
  "vscode": {
   "interpreter": {
    "hash": "9b53721b5209f6b27dfd4e42935fce446bc21767b4dde0d1cab774fb75f6cafa"
   }
  }
 },
 "nbformat": 4,
 "nbformat_minor": 2
}
