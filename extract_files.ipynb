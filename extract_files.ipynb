{
 "cells": [
  {
   "cell_type": "markdown",
   "metadata": {},
   "source": [
    "### Load datasets"
   ]
  },
  {
   "cell_type": "markdown",
   "metadata": {},
   "source": [
    "#### Twitter files extraction"
   ]
  },
  {
   "cell_type": "code",
   "execution_count": 12,
   "metadata": {},
   "outputs": [],
   "source": [
    "import os\n",
    "import shutil"
   ]
  },
  {
   "cell_type": "code",
   "execution_count": 5,
   "metadata": {},
   "outputs": [],
   "source": [
    "root = \"/Volumes/ERNESTV/SNACS datasets/\""
   ]
  },
  {
   "cell_type": "code",
   "execution_count": 7,
   "metadata": {},
   "outputs": [],
   "source": [
    "keep_values_small = ['14711172', '15053535','15924858','22252971','40777046','43858661', '96545499', '98801140', '215328630', '396721965']\n",
    "keep_values_medium = ['9254272', '9460682', '18481292', '19933035', '21420959', '22106463', '23503181', '26346966', '163374693', '430313102']\n",
    "keep_values_large = ['16987303', '24117694', '24117694', '89826562', '175553601', '200214366', '217796457', '248883350', '256497288', '307458983', '314316607']"
   ]
  },
  {
   "cell_type": "code",
   "execution_count": 13,
   "metadata": {},
   "outputs": [],
   "source": [
    "count = 0\n",
    "for file in os.listdir(root + \"twitter/\"):\n",
    "    if file[:file.find('.')] in keep_values_small or file[:file.find('.')] in keep_values_medium or file[:file.find('.')] in keep_values_large:\n",
    "        shutil.copy(root + \"twitter/\" + file, root + \"twitter_use/\")"
   ]
  },
  {
   "cell_type": "markdown",
   "metadata": {},
   "source": [
    "#### ANOTHER"
   ]
  },
  {
   "cell_type": "code",
   "execution_count": null,
   "metadata": {},
   "outputs": [],
   "source": []
  },
  {
   "cell_type": "markdown",
   "metadata": {},
   "source": []
  }
 ],
 "metadata": {
  "kernelspec": {
   "display_name": "Python 3.11.0 ('snacs_retake')",
   "language": "python",
   "name": "python3"
  },
  "language_info": {
   "codemirror_mode": {
    "name": "ipython",
    "version": 3
   },
   "file_extension": ".py",
   "mimetype": "text/x-python",
   "name": "python",
   "nbconvert_exporter": "python",
   "pygments_lexer": "ipython3",
   "version": "3.11.0"
  },
  "orig_nbformat": 4,
  "vscode": {
   "interpreter": {
    "hash": "0b22bb1b565654e2ad655c7ab5323c653e9523a2819e15596890dd7fdd33ddfc"
   }
  }
 },
 "nbformat": 4,
 "nbformat_minor": 2
}
